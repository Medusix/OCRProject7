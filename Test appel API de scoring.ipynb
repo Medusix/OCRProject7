{
 "cells": [
  {
   "cell_type": "markdown",
   "id": "c013ed8b",
   "metadata": {},
   "source": [
    "# Test d'appel de l'API de scoring crédit"
   ]
  },
  {
   "cell_type": "markdown",
   "id": "9ed1251e",
   "metadata": {},
   "source": [
    "## Local API - uvicorn"
   ]
  },
  {
   "cell_type": "code",
   "execution_count": 21,
   "id": "e0c08407",
   "metadata": {},
   "outputs": [],
   "source": [
    "import requests\n",
    "import json"
   ]
  },
  {
   "cell_type": "code",
   "execution_count": 22,
   "id": "7b81d1f8",
   "metadata": {},
   "outputs": [],
   "source": [
    "def get_client_scoring(SK_ID_CURR):\n",
    "    url = f\"http://127.0.0.1:8000/scoring/{SK_ID_CURR}\"\n",
    "    response = requests.get(url)\n",
    "    dict_result = json.loads(response.text)\n",
    "    return dict_result"
   ]
  },
  {
   "cell_type": "code",
   "execution_count": 23,
   "id": "ac5b9b1f",
   "metadata": {},
   "outputs": [
    {
     "name": "stdout",
     "output_type": "stream",
     "text": [
      "{'Client_ID': 100001, 'Probabilité': 0.6049, 'Pass': 'pass'}\n"
     ]
    }
   ],
   "source": [
    "client_id = 100001\n",
    "resultat = get_client_scoring(client_id)\n",
    "print(resultat)"
   ]
  },
  {
   "cell_type": "code",
   "execution_count": null,
   "id": "8b6c3b05",
   "metadata": {},
   "outputs": [],
   "source": []
  }
 ],
 "metadata": {
  "kernelspec": {
   "display_name": "Python 3 (ipykernel)",
   "language": "python",
   "name": "python3"
  },
  "language_info": {
   "codemirror_mode": {
    "name": "ipython",
    "version": 3
   },
   "file_extension": ".py",
   "mimetype": "text/x-python",
   "name": "python",
   "nbconvert_exporter": "python",
   "pygments_lexer": "ipython3",
   "version": "3.11.3"
  }
 },
 "nbformat": 4,
 "nbformat_minor": 5
}
